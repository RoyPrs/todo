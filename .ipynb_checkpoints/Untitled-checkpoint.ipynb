{
 "cells": [
  {
   "cell_type": "markdown",
   "id": "87cb84ee",
   "metadata": {},
   "source": [
    "# Task Management API\n",
    "This API is written to give its users the means to smoothly manage projects and tasks in a company. The API has basically four components; projects, tasks which are defined the projects, developers who are supposed to accomplish the tasks and managers who are responsible to define new projects and tasks and assigne them to developers.\n",
    "Task Managemnet API has two application. user_management and task_management.\n",
    "\n",
    "\n",
    "## user_management\n",
    "#### Signup\n",
    "##### URL\n",
    "http://localhost:8000/user/signup/\n",
    "\n",
    "##### Method\n",
    "POST\n",
    "\n",
    "##### Request Body\n",
    "\n",
    "#### Signin\n",
    "http://localhost:8000/user/signin/\n",
    "#### Signout\n",
    "http://localhost:8000/user/signout/\n",
    "\n",
    "\n",
    "## task_management\n",
    "\n",
    "### Add Project and Assign it to Themselves (for project managers)\n",
    "##### URL\n",
    "http://localhost:8000/task/project/\n",
    "\n",
    "##### Method\n",
    "POST\n",
    "\n",
    "### Retrieve All Projects (for project managers)\n",
    "##### URL\n",
    "http://localhost:8000/task/project/\n",
    "\n",
    "##### Method\n",
    "GET\n",
    "\n",
    "\n",
    "### Add Task (for developers and project managers)\n",
    "##### URL\n",
    "http://localhost:8000/task/task/\n",
    "\n",
    "### Retrieve All Tasks in their Projects (for developers and project managers)\n",
    "http://localhost:8000/task/tasks/\n",
    "\n",
    "### Assign a Task to a Developer (for project managers)\n",
    "http://localhost:8000/task/assign/\n",
    "\n"
   ]
  },
  {
   "cell_type": "code",
   "execution_count": null,
   "id": "667d6cd3",
   "metadata": {},
   "outputs": [],
   "source": []
  }
 ],
 "metadata": {
  "kernelspec": {
   "display_name": "Django Shell-Plus",
   "language": "python",
   "name": "django_extensions"
  },
  "language_info": {
   "codemirror_mode": {
    "name": "ipython",
    "version": 3
   },
   "file_extension": ".py",
   "mimetype": "text/x-python",
   "name": "python",
   "nbconvert_exporter": "python",
   "pygments_lexer": "ipython3",
   "version": "3.9.4"
  }
 },
 "nbformat": 4,
 "nbformat_minor": 5
}
