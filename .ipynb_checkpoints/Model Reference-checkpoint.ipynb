{
 "cells": [
  {
   "cell_type": "markdown",
   "id": "3de0aaf9",
   "metadata": {},
   "source": [
    "By default on_delete=models.CASCADE, which means that if the author was deleted, this book would be deleted too! We use SET_NULL here, but we could also use PROTECT or RESTRICT to prevent the author being deleted while any book uses it."
   ]
  },
  {
   "cell_type": "code",
   "execution_count": 1,
   "id": "bcef27e3",
   "metadata": {},
   "outputs": [
    {
     "name": "stdout",
     "output_type": "stream",
     "text": [
      "in assign Django\n",
      "in save testmanager\n",
      "Django\n",
      "in here None\n"
     ]
    }
   ],
   "source": [
    "import hi\n",
    "from user_management.models import User\n",
    "from task_management.models import Project, Task\n",
    "from task_management.serializers import *\n",
    "\n",
    "d3 = User.objects.get(username='testmanager')\n",
    "p3 = Project.objects.get(name = \"Django\")\n",
    "d3.assign_project(p3)\n",
    "# d3.save()\n",
    "# d3.assign_project(p3)\n",
    "print(\"in here\",d3.get_project)\n",
    "print(d3.project)\n",
    "# Project.objects.get(manager=d3)"
   ]
  },
  {
   "cell_type": "code",
   "execution_count": 7,
   "id": "bdcd8794",
   "metadata": {},
   "outputs": [
    {
     "name": "stdout",
     "output_type": "stream",
     "text": [
      "testdeveloper\n"
     ]
    },
    {
     "ename": "AttributeError",
     "evalue": "'NoneType' object has no attribute 'project'",
     "output_type": "error",
     "traceback": [
      "\u001b[1;31m---------------------------------------------------------------------------\u001b[0m",
      "\u001b[1;31mAttributeError\u001b[0m                            Traceback (most recent call last)",
      "\u001b[1;32m<ipython-input-7-b5bed381e24f>\u001b[0m in \u001b[0;36m<module>\u001b[1;34m\u001b[0m\n\u001b[0;32m     17\u001b[0m \u001b[1;31m#     my_tasks = models.Project.objects.filter(manager=user).first().task_set.all()\u001b[0m\u001b[1;33m\u001b[0m\u001b[1;33m\u001b[0m\u001b[1;33m\u001b[0m\u001b[0m\n\u001b[0;32m     18\u001b[0m \u001b[1;31m# p2.article_set.all()\u001b[0m\u001b[1;33m\u001b[0m\u001b[1;33m\u001b[0m\u001b[1;33m\u001b[0m\u001b[0m\n\u001b[1;32m---> 19\u001b[1;33m \u001b[0mmy_tasks\u001b[0m\u001b[1;33m=\u001b[0m\u001b[0md3\u001b[0m\u001b[1;33m.\u001b[0m\u001b[0mtask_set\u001b[0m\u001b[1;33m.\u001b[0m\u001b[0mfirst\u001b[0m\u001b[1;33m(\u001b[0m\u001b[1;33m)\u001b[0m\u001b[1;33m.\u001b[0m\u001b[0mproject\u001b[0m\u001b[1;33m\u001b[0m\u001b[1;33m\u001b[0m\u001b[0m\n\u001b[0m\u001b[0;32m     20\u001b[0m \u001b[0mmy_tasks\u001b[0m\u001b[1;33m\u001b[0m\u001b[1;33m\u001b[0m\u001b[0m\n\u001b[0;32m     21\u001b[0m \u001b[1;31m# print(my_tasks)\u001b[0m\u001b[1;33m\u001b[0m\u001b[1;33m\u001b[0m\u001b[1;33m\u001b[0m\u001b[0m\n",
      "\u001b[1;31mAttributeError\u001b[0m: 'NoneType' object has no attribute 'project'"
     ]
    }
   ],
   "source": [
    "from user_management.models import User\n",
    "from task_management.models import Project, Task\n",
    "from task_management.serializers import *\n",
    "tsk1 = Task.objects.get(name = 'bi1')\n",
    "tsk2 = Task.objects.get(name = 'bi2')\n",
    "d3 = User.objects.get(username='testdeveloper')\n",
    "m1 = User.objects.get(username=\"mdj\")\n",
    "tsk = Task.objects.get(name = 'dj1')\n",
    "print(d3)\n",
    "tsk.project\n",
    "# task_list =[tsk1,tsk2]\n",
    "# d3.assign_tasks([tsk1,tsk2])\n",
    "# d3.task_set.set(task_list)\n",
    "# d3.task_set.add(task_list)\n",
    "\n",
    "# p2.article_set.add(a4, a5)\n",
    "# dps=tsk.developers.all()\n",
    "# print(dps)\n",
    "# a1.publications.all()\n",
    "# user = m1\n",
    "# if user.role == \"DEVELOPER\":\n",
    "#     my_tasks = models.Task.objects.filter(developer=user)\n",
    "# elif user.role == \"MANAGER\":\n",
    "#     my_tasks = models.Project.objects.filter(manager=user).first().task_set.all()\n",
    "# p2.article_set.all()\n",
    "my_tasks=d3.task_set.first().project\n",
    "my_tasks\n",
    "# print(my_tasks)\n",
    "# my_project = models.Project.objects.get(manager=m1)\n",
    "# my_project.task_set.all()\n",
    "# my_project.tasks.all()\n",
    "\n",
    "# r.article_set.all()\n"
   ]
  },
  {
   "cell_type": "code",
   "execution_count": 4,
   "id": "2e45f8c1",
   "metadata": {},
   "outputs": [
    {
     "name": "stdout",
     "output_type": "stream",
     "text": [
      "None\n"
     ]
    }
   ],
   "source": [
    "def f(a):\n",
    "    if a>2:\n",
    "        return None\n",
    "    else:\n",
    "        return 1\n",
    "    \n",
    "print(f(4))"
   ]
  },
  {
   "cell_type": "code",
   "execution_count": 26,
   "id": "3573549e",
   "metadata": {},
   "outputs": [
    {
     "name": "stdout",
     "output_type": "stream",
     "text": [
      "No Key\n"
     ]
    }
   ],
   "source": [
    "import requests\n",
    "import json\n",
    "\n",
    "data = {\n",
    "    \"username\": \"myemail@gmail.com\",\n",
    "    \"password\": \"password124\"\n",
    "}\n",
    "url = \"http://127.0.0.1:8000/task/task/\"\n",
    "response = requests.get(url)\n",
    "token = json.loads(response.text).get('token')\n",
    "\n",
    "if token:\n",
    "    token = f\"Token {token}\"\n",
    "    headers = {\"Authorization\": token}\n",
    "    response = requests.get(\"http://127.0.0.1:8000/task/task/\", headers=headers)\n",
    "    print(response.text)\n",
    "else:\n",
    "    print('No Key')"
   ]
  },
  {
   "cell_type": "code",
   "execution_count": null,
   "id": "fb658012",
   "metadata": {},
   "outputs": [],
   "source": [
    "August 8/ Mordad 17\n",
    "For 5000$\n",
    "یوسف گم گشته بازآید به کنعان غم مخور\n",
    "کلبه احزان شود روزی گلستان غم مخور\n",
    "ای دل غمدیده حالت به شود دل بد مکن\n",
    "وین سر شوریده باز آید به سامان غم مخور\n",
    "گر بهار عمر باشد باز بر تخت چمن\n",
    "چتر گل در سر کشی ای مرغ خوشخوان غم مخور\n",
    "دور گردون گر دو روزی بر مراد ما نرفت\n",
    "دائما یکسان نباشد حال دوران غم مخور\n",
    "هان مشو نومید چون واقف نه‌ای از سر غیب\n",
    "باشد اندر پرده بازیهای پنهان غم مخور\n",
    "ای دل ار سیل فنا بنیاد هستی بر کند\n",
    "چون تو را نوح است کشتیبان ز طوفان غم مخور\n",
    "در بیابان گر به شوق کعبه خواهی زد قدم\n",
    "سرزنشها گر کند خار مغیلان غم مخور\n",
    "گر چه منزل بس خطرناک است و مقصد بس بعید\n",
    "هیچ راهی نیست کان را نیست پایان غم مخور\n",
    "حال ما در فرقت جانان و ابرام رقیب\n",
    "جمله می‌داند خدای حال گردان غم مخور\n",
    "حافظا در کنج فقر و خلوت شبهای تار\n",
    "تا بود وردت دعا و درس قرآن غم مخور\n",
    " \n"
   ]
  },
  {
   "cell_type": "code",
   "execution_count": 1,
   "id": "a5dd8f07",
   "metadata": {},
   "outputs": [],
   "source": [
    "import hi\n",
    "from user_management.models import User\n",
    "from django.contrib.auth.models import Group\n",
    "\n",
    "# student=Group.objects.get(name='Student')\n",
    "\n",
    "\n",
    "# sroush=User.objects.create(global_id='st123',email='sroush@gmail.com', first_name='Sroush', last_name='Parsaee', password='sroushpassword')\n",
    "roya=User.objects.get(first_name='Roya')\n",
    "# sana.email='sana@gmail.com'\n",
    "# sanaa.global_id='st456'\n",
    "# sanaa.save()\n",
    "# roya"
   ]
  },
  {
   "cell_type": "code",
   "execution_count": 9,
   "id": "2ffc141e",
   "metadata": {},
   "outputs": [
    {
     "ename": "SyntaxError",
     "evalue": "can't use starred expression here (2601375288.py, line 1)",
     "output_type": "error",
     "traceback": [
      "\u001b[1;36m  Cell \u001b[1;32mIn [9], line 1\u001b[1;36m\u001b[0m\n\u001b[1;33m    *{1,23,4}\u001b[0m\n\u001b[1;37m    ^\u001b[0m\n\u001b[1;31mSyntaxError\u001b[0m\u001b[1;31m:\u001b[0m can't use starred expression here\n"
     ]
    }
   ],
   "source": [
    "*{1,23,4}"
   ]
  },
  {
   "cell_type": "code",
   "execution_count": null,
   "id": "e744cbad",
   "metadata": {},
   "outputs": [],
   "source": []
  }
 ],
 "metadata": {
  "kernelspec": {
   "display_name": "Django Shell-Plus",
   "language": "python",
   "name": "django_extensions"
  },
  "language_info": {
   "codemirror_mode": {
    "name": "ipython",
    "version": 3
   },
   "file_extension": ".py",
   "mimetype": "text/x-python",
   "name": "python",
   "nbconvert_exporter": "python",
   "pygments_lexer": "ipython3",
   "version": "3.9.4"
  }
 },
 "nbformat": 4,
 "nbformat_minor": 5
}
